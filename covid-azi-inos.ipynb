{
 "cells": [
  {
   "cell_type": "markdown",
   "id": "8b291d2d",
   "metadata": {},
   "source": [
    "# Havi COVID-esetszámok és az azitromicin illetve az inosin-prabonex\n",
    "\n",
    "\n",
    "Korreláció keresése a havi COVID-esetszámok és az azitromicin, illetve az inozin-prabonex hatóanyagú gyógyszerek havi dobozforgalma között."
   ]
  },
  {
   "cell_type": "code",
   "execution_count": 1,
   "id": "59f00f70",
   "metadata": {},
   "outputs": [],
   "source": [
    "import pandas as pd\n",
    "import matplotlib.pyplot as plt\n",
    "import seaborn as sns\n",
    "%matplotlib inline\n",
    "pd.set_option('display.max_columns', None)"
   ]
  },
  {
   "cell_type": "code",
   "execution_count": 47,
   "id": "5de24045",
   "metadata": {},
   "outputs": [],
   "source": [
    "df = pd.read_csv('covid-azi-inos.csv', delimiter=';')"
   ]
  },
  {
   "cell_type": "code",
   "execution_count": 48,
   "id": "22c0aec4",
   "metadata": {},
   "outputs": [],
   "source": [
    "df = df[6:]"
   ]
  },
  {
   "cell_type": "code",
   "execution_count": 50,
   "id": "26fefd82",
   "metadata": {},
   "outputs": [
    {
     "data": {
      "text/html": [
       "<div>\n",
       "<style scoped>\n",
       "    .dataframe tbody tr th:only-of-type {\n",
       "        vertical-align: middle;\n",
       "    }\n",
       "\n",
       "    .dataframe tbody tr th {\n",
       "        vertical-align: top;\n",
       "    }\n",
       "\n",
       "    .dataframe thead th {\n",
       "        text-align: right;\n",
       "    }\n",
       "</style>\n",
       "<table border=\"1\" class=\"dataframe\">\n",
       "  <thead>\n",
       "    <tr style=\"text-align: right;\">\n",
       "      <th></th>\n",
       "      <th>HONAP</th>\n",
       "      <th>azitromicin</th>\n",
       "      <th>COVID-eset</th>\n",
       "      <th>inosin_pranobex</th>\n",
       "    </tr>\n",
       "  </thead>\n",
       "  <tbody>\n",
       "    <tr>\n",
       "      <th>count</th>\n",
       "      <td>23.000000</td>\n",
       "      <td>23.000000</td>\n",
       "      <td>23.000000</td>\n",
       "      <td>23.000000</td>\n",
       "    </tr>\n",
       "    <tr>\n",
       "      <th>mean</th>\n",
       "      <td>202119.478261</td>\n",
       "      <td>103375.351975</td>\n",
       "      <td>85188.782609</td>\n",
       "      <td>7513.753043</td>\n",
       "    </tr>\n",
       "    <tr>\n",
       "      <th>std</th>\n",
       "      <td>67.322068</td>\n",
       "      <td>50930.898614</td>\n",
       "      <td>88882.379369</td>\n",
       "      <td>4373.148121</td>\n",
       "    </tr>\n",
       "    <tr>\n",
       "      <th>min</th>\n",
       "      <td>202009.000000</td>\n",
       "      <td>37266.764000</td>\n",
       "      <td>1363.000000</td>\n",
       "      <td>0.000000</td>\n",
       "    </tr>\n",
       "    <tr>\n",
       "      <th>25%</th>\n",
       "      <td>202102.500000</td>\n",
       "      <td>59187.163665</td>\n",
       "      <td>18541.000000</td>\n",
       "      <td>5357.900000</td>\n",
       "    </tr>\n",
       "    <tr>\n",
       "      <th>50%</th>\n",
       "      <td>202108.000000</td>\n",
       "      <td>87504.967670</td>\n",
       "      <td>48860.000000</td>\n",
       "      <td>8079.020000</td>\n",
       "    </tr>\n",
       "    <tr>\n",
       "      <th>75%</th>\n",
       "      <td>202201.500000</td>\n",
       "      <td>149846.432300</td>\n",
       "      <td>134358.000000</td>\n",
       "      <td>10673.350000</td>\n",
       "    </tr>\n",
       "    <tr>\n",
       "      <th>max</th>\n",
       "      <td>202207.000000</td>\n",
       "      <td>208831.794000</td>\n",
       "      <td>296990.000000</td>\n",
       "      <td>13989.980000</td>\n",
       "    </tr>\n",
       "  </tbody>\n",
       "</table>\n",
       "</div>"
      ],
      "text/plain": [
       "               HONAP    azitromicin     COVID-eset  inosin_pranobex\n",
       "count      23.000000      23.000000      23.000000        23.000000\n",
       "mean   202119.478261  103375.351975   85188.782609      7513.753043\n",
       "std        67.322068   50930.898614   88882.379369      4373.148121\n",
       "min    202009.000000   37266.764000    1363.000000         0.000000\n",
       "25%    202102.500000   59187.163665   18541.000000      5357.900000\n",
       "50%    202108.000000   87504.967670   48860.000000      8079.020000\n",
       "75%    202201.500000  149846.432300  134358.000000     10673.350000\n",
       "max    202207.000000  208831.794000  296990.000000     13989.980000"
      ]
     },
     "execution_count": 50,
     "metadata": {},
     "output_type": "execute_result"
    }
   ],
   "source": [
    "df.describe()"
   ]
  },
  {
   "cell_type": "code",
   "execution_count": 63,
   "id": "1d2ac2c0",
   "metadata": {},
   "outputs": [
    {
     "data": {
      "text/html": [
       "<div>\n",
       "<style scoped>\n",
       "    .dataframe tbody tr th:only-of-type {\n",
       "        vertical-align: middle;\n",
       "    }\n",
       "\n",
       "    .dataframe tbody tr th {\n",
       "        vertical-align: top;\n",
       "    }\n",
       "\n",
       "    .dataframe thead th {\n",
       "        text-align: right;\n",
       "    }\n",
       "</style>\n",
       "<table border=\"1\" class=\"dataframe\">\n",
       "  <thead>\n",
       "    <tr style=\"text-align: right;\">\n",
       "      <th></th>\n",
       "      <th>HONAP</th>\n",
       "      <th>azitromicin</th>\n",
       "      <th>COVID-eset</th>\n",
       "      <th>inosin_pranobex</th>\n",
       "    </tr>\n",
       "  </thead>\n",
       "  <tbody>\n",
       "    <tr>\n",
       "      <th>6</th>\n",
       "      <td>202009</td>\n",
       "      <td>54573.92834</td>\n",
       "      <td>20322</td>\n",
       "      <td>0.00</td>\n",
       "    </tr>\n",
       "    <tr>\n",
       "      <th>7</th>\n",
       "      <td>202010</td>\n",
       "      <td>61136.06333</td>\n",
       "      <td>48860</td>\n",
       "      <td>0.00</td>\n",
       "    </tr>\n",
       "    <tr>\n",
       "      <th>8</th>\n",
       "      <td>202011</td>\n",
       "      <td>102836.89730</td>\n",
       "      <td>141801</td>\n",
       "      <td>11143.32</td>\n",
       "    </tr>\n",
       "    <tr>\n",
       "      <th>9</th>\n",
       "      <td>202012</td>\n",
       "      <td>86133.66133</td>\n",
       "      <td>105392</td>\n",
       "      <td>0.00</td>\n",
       "    </tr>\n",
       "    <tr>\n",
       "      <th>10</th>\n",
       "      <td>202101</td>\n",
       "      <td>57238.26400</td>\n",
       "      <td>45072</td>\n",
       "      <td>7308.22</td>\n",
       "    </tr>\n",
       "  </tbody>\n",
       "</table>\n",
       "</div>"
      ],
      "text/plain": [
       "     HONAP   azitromicin  COVID-eset  inosin_pranobex\n",
       "6   202009   54573.92834       20322             0.00\n",
       "7   202010   61136.06333       48860             0.00\n",
       "8   202011  102836.89730      141801         11143.32\n",
       "9   202012   86133.66133      105392             0.00\n",
       "10  202101   57238.26400       45072          7308.22"
      ]
     },
     "execution_count": 63,
     "metadata": {},
     "output_type": "execute_result"
    }
   ],
   "source": [
    "df.head()"
   ]
  },
  {
   "cell_type": "code",
   "execution_count": 56,
   "id": "7aa80748",
   "metadata": {},
   "outputs": [],
   "source": [
    "col1, col2 = \"COVID-eset\", \"azitromicin\""
   ]
  },
  {
   "cell_type": "code",
   "execution_count": 60,
   "id": "6508c610",
   "metadata": {},
   "outputs": [
    {
     "name": "stdout",
     "output_type": "stream",
     "text": [
      "0.7588359354114343\n"
     ]
    }
   ],
   "source": [
    "print(df[col1].corr(df[col2]))"
   ]
  },
  {
   "cell_type": "code",
   "execution_count": 61,
   "id": "7137f46b",
   "metadata": {},
   "outputs": [],
   "source": [
    "col1, col2 = \"COVID-eset\", \"inosin_pranobex\""
   ]
  },
  {
   "cell_type": "code",
   "execution_count": 62,
   "id": "c64a228d",
   "metadata": {},
   "outputs": [
    {
     "name": "stdout",
     "output_type": "stream",
     "text": [
      "0.6380844601832114\n"
     ]
    }
   ],
   "source": [
    "print(df[col1].corr(df[col2]))"
   ]
  },
  {
   "cell_type": "code",
   "execution_count": null,
   "id": "8c1ac9b2",
   "metadata": {},
   "outputs": [],
   "source": []
  },
  {
   "cell_type": "code",
   "execution_count": null,
   "id": "a46edf0b",
   "metadata": {},
   "outputs": [],
   "source": []
  }
 ],
 "metadata": {
  "kernelspec": {
   "display_name": "Python 3 (ipykernel)",
   "language": "python",
   "name": "python3"
  },
  "language_info": {
   "codemirror_mode": {
    "name": "ipython",
    "version": 3
   },
   "file_extension": ".py",
   "mimetype": "text/x-python",
   "name": "python",
   "nbconvert_exporter": "python",
   "pygments_lexer": "ipython3",
   "version": "3.7.11"
  }
 },
 "nbformat": 4,
 "nbformat_minor": 5
}
